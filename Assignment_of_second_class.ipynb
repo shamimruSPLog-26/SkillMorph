{
  "cells": [
    {
      "cell_type": "markdown",
      "metadata": {
        "id": "view-in-github",
        "colab_type": "text"
      },
      "source": [
        "<a href=\"https://colab.research.google.com/github/shamimruSPLog-26/SkillMorph/blob/main/Assignment_of_second_class.ipynb\" target=\"_parent\"><img src=\"https://colab.research.google.com/assets/colab-badge.svg\" alt=\"Open In Colab\"/></a>"
      ]
    },
    {
      "cell_type": "markdown",
      "metadata": {
        "id": "OCZQNjrAcX9c"
      },
      "source": [
        "# A**-2.1**:variables for my name, age, and favorite color\n"
      ]
    },
    {
      "cell_type": "code",
      "execution_count": null,
      "metadata": {
        "colab": {
          "base_uri": "https://localhost:8080/"
        },
        "id": "cHlHD6kCcexV",
        "outputId": "46c87cd3-3fe1-4ece-96b3-5b958a1c15e0"
      },
      "outputs": [
        {
          "name": "stdout",
          "output_type": "stream",
          "text": [
            "Shamim\n",
            "30\n",
            "Blue\n"
          ]
        }
      ],
      "source": [
        "name=\"Shamim\"\n",
        "age=30\n",
        "fav_color=\"Blue\"\n",
        "print(name)\n",
        "print(age)\n",
        "print(fav_color)"
      ]
    },
    {
      "cell_type": "markdown",
      "metadata": {
        "id": "-kJCbzO1dNzR"
      },
      "source": [
        "# A**-2.2**: variable of data type and use of type() function"
      ]
    },
    {
      "cell_type": "code",
      "execution_count": null,
      "metadata": {
        "colab": {
          "base_uri": "https://localhost:8080/"
        },
        "id": "QkTJPWkpdm4q",
        "outputId": "02d5d145-2d42-428b-90ea-993871f5e370"
      },
      "outputs": [
        {
          "name": "stdout",
          "output_type": "stream",
          "text": [
            "<class 'str'>\n",
            "<class 'int'>\n",
            "<class 'float'>\n",
            "<class 'bool'>\n",
            "<class 'bool'>\n",
            "<class 'NoneType'>\n"
          ]
        }
      ],
      "source": [
        "product= \"Rice\"\n",
        "price=68\n",
        "quantity=10.5\n",
        "price_validity=True\n",
        "paid=False\n",
        "result=None\n",
        "print(type(product))\n",
        "print(type(price))\n",
        "print(type(quantity))\n",
        "print(type(price_validity))\n",
        "print(type(paid))\n",
        "print(type(result))\n"
      ]
    },
    {
      "cell_type": "markdown",
      "metadata": {
        "id": "HcuubrUffG87"
      },
      "source": [
        "# **A-2.3** alculation of area and perimeter of a rectangle"
      ]
    },
    {
      "cell_type": "code",
      "execution_count": null,
      "metadata": {
        "colab": {
          "base_uri": "https://localhost:8080/"
        },
        "id": "bDANKQD1fRBd",
        "outputId": "ee36e7cb-a34d-40d9-8c9d-c7d4f0cb5387"
      },
      "outputs": [
        {
          "name": "stdout",
          "output_type": "stream",
          "text": [
            "The area of the rectangle is: 35 sq meter\n",
            "The perimeter of the rectangle is: 24 meter\n"
          ]
        }
      ],
      "source": [
        "a=7\n",
        "b=5\n",
        "area=a*b\n",
        "perimeter=2*(a+b)\n",
        "print(\"The area of the rectangle is:\", area, \"sq meter\")\n",
        "print(\"The perimeter of the rectangle is:\", perimeter, \"meter\")\n",
        "\n",
        "\n"
      ]
    },
    {
      "cell_type": "markdown",
      "metadata": {
        "id": "NsaChVp0gzVN"
      },
      "source": [
        "# **A-2.4:**  a list of 5 Bangladeshi foods"
      ]
    },
    {
      "cell_type": "code",
      "execution_count": null,
      "metadata": {
        "colab": {
          "base_uri": "https://localhost:8080/"
        },
        "id": "R4brnDdvg4Af",
        "outputId": "55bf891a-25d0-4c8f-e867-18201a6ab4cc"
      },
      "outputs": [
        {
          "name": "stdout",
          "output_type": "stream",
          "text": [
            "['rice', 'fish', 'meat', 'vegetable', 'dal']\n",
            "rice\n",
            "dal\n",
            "rice\n",
            "dal\n",
            "([5], [5], [5])\n"
          ]
        }
      ],
      "source": [
        "foods= [\"rice\", \"fish\", \"meat\", \"vegetable\",\"dal\"]\n",
        "print(foods)\n",
        "print(foods[-5])\n",
        "print(foods[-1])\n",
        "print(foods[0])\n",
        "print(foods[4])\n",
        "repeat=([5],)*3 # repeataion with space\n",
        "print(repeat)"
      ]
    },
    {
      "cell_type": "markdown",
      "metadata": {
        "id": "XLl_zFI_vmNR"
      },
      "source": [
        "# **A-2.5:**  list of 5 numbers, adding, removing, and sorting"
      ]
    },
    {
      "cell_type": "code",
      "execution_count": null,
      "metadata": {
        "colab": {
          "background_save": true
        },
        "id": "6CaDp3_dv3jP",
        "outputId": "65b8c865-348e-4d04-d4f3-3d2747c84412"
      },
      "outputs": [
        {
          "name": "stdout",
          "output_type": "stream",
          "text": [
            "[2, 6, 10, 8, 15]\n",
            "[20, 2, 6, 10, 8, 15]\n",
            "[20, 2, 6, 8, 15]\n",
            "[2, 6, 8, 15, 20]\n"
          ]
        }
      ],
      "source": [
        "list=[2,6,10,8,15]\n",
        "print(list)\n",
        "list.insert(0,20)\n",
        "print(list)\n",
        "list.remove(10)\n",
        "print(list)\n",
        "list.sort()\n",
        "print(list)"
      ]
    },
    {
      "cell_type": "markdown",
      "source": [
        "# **A-2.6:** a dictionary about myself"
      ],
      "metadata": {
        "id": "K6uabWDNzY6E"
      }
    },
    {
      "cell_type": "code",
      "source": [
        "myself={\n",
        "    \"Name\" : \"Shamim Ahmed\", \"Age\" : 30, \"Institute\" : \"University Of Rajshahi\", \"Class\" : \"MPhil\", \"Aim\" : \"To be a Data Scientist\", \"email\" : \"shamim.ru24@gmail.com\", \"Phone No.\" : \"01767058127\"\n",
        "\n",
        "}\n",
        "print(myself)\n"
      ],
      "metadata": {
        "colab": {
          "base_uri": "https://localhost:8080/"
        },
        "id": "y58dNe2DzhKN",
        "outputId": "5159cd64-7a61-44fb-c7e6-c1b67b586de7"
      },
      "execution_count": null,
      "outputs": [
        {
          "output_type": "stream",
          "name": "stdout",
          "text": [
            "{'Name': 'Shamim Ahmed', 'Age': 30, 'Institute': 'University Of Rajshahi', 'Class': 'MPhil', 'Aim': 'To be a Data Scientist', 'email': 'shamim.ru24@gmail.com', 'Phone No.': '01767058127'}\n"
          ]
        }
      ]
    },
    {
      "cell_type": "markdown",
      "source": [
        "# **A-2.7:**  tuple with the latitude and longitude of Rajshahi University"
      ],
      "metadata": {
        "id": "z1sZCF7e278f"
      }
    },
    {
      "cell_type": "code",
      "source": [
        "coordinates = (24.37, 88.64)\n",
        "print(coordinates)\n",
        "print(coordinates[0])\n",
        "print(len(coordinates))"
      ],
      "metadata": {
        "colab": {
          "base_uri": "https://localhost:8080/"
        },
        "id": "I8DuDdZT4Tgl",
        "outputId": "8c0e8dcb-819b-4402-ca23-329f671b5ae6"
      },
      "execution_count": null,
      "outputs": [
        {
          "output_type": "stream",
          "name": "stdout",
          "text": [
            "(24.37, 88.64)\n",
            "24.37\n",
            "2\n"
          ]
        }
      ]
    },
    {
      "cell_type": "markdown",
      "source": [
        "# **A-2.8:** two sets of colors and find their union and intersec"
      ],
      "metadata": {
        "id": "qdz3F4c47j5a"
      }
    },
    {
      "cell_type": "code",
      "source": [
        "col1 = {\"red\", \"green\", \"yellow\", \"orange\"}\n",
        "col2 = {\"blue\", \"green\", \"yellow\", \"pink\", \"red\"}\n",
        "print(col1 |col2)\n",
        "print(col1 & col2)"
      ],
      "metadata": {
        "colab": {
          "base_uri": "https://localhost:8080/"
        },
        "id": "QnBQdgA_7pB6",
        "outputId": "b02c2c09-ac74-4e0e-af24-3ba9ab6509bb"
      },
      "execution_count": null,
      "outputs": [
        {
          "output_type": "stream",
          "name": "stdout",
          "text": [
            "{'orange', 'yellow', 'green', 'pink', 'red', 'blue'}\n",
            "{'yellow', 'green', 'red'}\n"
          ]
        }
      ]
    },
    {
      "cell_type": "markdown",
      "source": [
        "# **A-2.9:** checks a number is positive, negative, or zero"
      ],
      "metadata": {
        "id": "axUrJxcb9q5L"
      }
    },
    {
      "cell_type": "code",
      "source": [
        "num = -10\n",
        "if num > 0:\n",
        "  print(\"The number is positive\")\n",
        "elif num < 0:\n",
        "  print(\"The number is Negative\")\n",
        "elif num == 0:\n",
        "  print(\"The number is zero\")"
      ],
      "metadata": {
        "colab": {
          "base_uri": "https://localhost:8080/"
        },
        "id": "bShT_VMP9167",
        "outputId": "5680d9b0-9fad-4e07-d4ba-c206a1d0cb5d"
      },
      "execution_count": null,
      "outputs": [
        {
          "output_type": "stream",
          "name": "stdout",
          "text": [
            "The number is Negative\n"
          ]
        }
      ]
    },
    {
      "cell_type": "markdown",
      "source": [
        "# **A-10:** checks eligibility for a discount (student AND under 25, OR senior over 60)\n"
      ],
      "metadata": {
        "id": "XeJ87q2KAO2L"
      }
    },
    {
      "cell_type": "code",
      "source": [
        "age = int(input(\"Enter your age: \"))\n",
        "student = input(\"Are you a student? (yes/no): \").lower() == 'yes'\n",
        "\n",
        "result = check_discount(age, student)\n",
        "print(result)"
      ],
      "metadata": {
        "colab": {
          "base_uri": "https://localhost:8080/"
        },
        "id": "jyury-3TBRl4",
        "outputId": "e21bac05-cd1e-45a3-e1fd-8ed040acb6c4"
      },
      "execution_count": null,
      "outputs": [
        {
          "output_type": "stream",
          "name": "stdout",
          "text": [
            "Enter your age: 30\n",
            "Are you a student? (yes/no): no\n",
            "Not eligible for discount\n",
            "None\n"
          ]
        }
      ]
    },
    {
      "cell_type": "markdown",
      "source": [
        "# **A-2.11:** prints the first 10 even numbers using a for loop"
      ],
      "metadata": {
        "id": "3orGTGcEN6GJ"
      }
    },
    {
      "cell_type": "code",
      "source": [
        "for i in range (11):\n",
        "  if i % 2 ==0:\n",
        "    print(i, end=\",\")"
      ],
      "metadata": {
        "colab": {
          "base_uri": "https://localhost:8080/"
        },
        "id": "0YhiNhtMRoDx",
        "outputId": "bb5d7c19-0e45-477d-88a0-d12e75bb4750"
      },
      "execution_count": null,
      "outputs": [
        {
          "output_type": "stream",
          "name": "stdout",
          "text": [
            "0,2,4,6,8,10,"
          ]
        }
      ]
    },
    {
      "cell_type": "code",
      "source": [
        "i=1\n",
        "print(\"The odd nuembers are=\", end = \" \")\n",
        "while i<11:\n",
        "  print(i, end = \",\")\n",
        "  i +=2"
      ],
      "metadata": {
        "colab": {
          "base_uri": "https://localhost:8080/"
        },
        "id": "5FdyYfIyY32Q",
        "outputId": "cb3a3609-ae32-421b-817b-84cf526aeab8"
      },
      "execution_count": null,
      "outputs": [
        {
          "output_type": "stream",
          "name": "stdout",
          "text": [
            "The odd nuembers are= 1,3,5,7,9,"
          ]
        }
      ]
    },
    {
      "cell_type": "markdown",
      "source": [
        "# **A-2.12:** simple number pyramid pattern using nested loops"
      ],
      "metadata": {
        "id": "T2jgCI9qanJT"
      }
    },
    {
      "cell_type": "code",
      "source": [
        "for i in range(1, 6):\n",
        "  print(i * \"2\")"
      ],
      "metadata": {
        "colab": {
          "base_uri": "https://localhost:8080/"
        },
        "id": "RQvxOnBScEjG",
        "outputId": "c399d855-2ee2-40a1-e392-ac58ef826b04"
      },
      "execution_count": null,
      "outputs": [
        {
          "output_type": "stream",
          "name": "stdout",
          "text": [
            "2\n",
            "22\n",
            "222\n",
            "2222\n",
            "22222\n"
          ]
        }
      ]
    },
    {
      "cell_type": "code",
      "source": [
        "n=5\n",
        "for i in range(1, n+1):\n",
        "  for j in range(1, i+1):\n",
        "    print(j, end=\" \")\n",
        "  print()"
      ],
      "metadata": {
        "colab": {
          "base_uri": "https://localhost:8080/"
        },
        "id": "utltPrnxanc4",
        "outputId": "182b5be2-4e6d-4b54-b3fb-bcc09276f1d8"
      },
      "execution_count": null,
      "outputs": [
        {
          "output_type": "stream",
          "name": "stdout",
          "text": [
            "1 \n",
            "1 2 \n",
            "1 2 3 \n",
            "1 2 3 4 \n",
            "1 2 3 4 5 \n"
          ]
        }
      ]
    },
    {
      "cell_type": "markdown",
      "source": [
        "# **A-2.13:** convertion of temperature from Celsius to Fahrenheit"
      ],
      "metadata": {
        "id": "d8YFHC8fc606"
      }
    },
    {
      "cell_type": "code",
      "source": [
        "Celcius = 36.7\n",
        "Fahrenheit = (Celcius * 9/5) + 32\n",
        "print(Fahrenheit)"
      ],
      "metadata": {
        "colab": {
          "base_uri": "https://localhost:8080/"
        },
        "id": "_8c2b3jrduEI",
        "outputId": "7f38b720-0c66-4e2c-e073-dd9beef29d24"
      },
      "execution_count": null,
      "outputs": [
        {
          "output_type": "stream",
          "name": "stdout",
          "text": [
            "98.06\n"
          ]
        }
      ]
    },
    {
      "cell_type": "code",
      "source": [
        "def C_to_F(C):\n",
        "    F = (C * 9/5) + 32\n",
        "    return F\n",
        "\n",
        "C = 36.69\n",
        "fahrenheit = C_to_F(C)\n",
        "print(f\"{C}°C is equal to {fahrenheit}°F\")"
      ],
      "metadata": {
        "colab": {
          "base_uri": "https://localhost:8080/"
        },
        "id": "6li_ute8hCuW",
        "outputId": "52369196-9084-445c-ee68-55b615be0eb3"
      },
      "execution_count": null,
      "outputs": [
        {
          "output_type": "stream",
          "name": "stdout",
          "text": [
            "36.69°C is equal to 98.042°F\n"
          ]
        }
      ]
    },
    {
      "cell_type": "markdown",
      "source": [
        "# **A-2.14:** Area calculation"
      ],
      "metadata": {
        "id": "wm2xRaYQjwhU"
      }
    },
    {
      "cell_type": "code",
      "source": [
        "def area_of_rectangle(a=5, b=3):\n",
        "    area = a * b\n",
        "    return area\n",
        "print(\"The area parameters:\", area_of_rectangle())\n",
        "\n"
      ],
      "metadata": {
        "colab": {
          "base_uri": "https://localhost:8080/"
        },
        "id": "otnt5J8Jj3Nz",
        "outputId": "b1560ab4-b35e-42a6-902c-9473322405c0"
      },
      "execution_count": null,
      "outputs": [
        {
          "output_type": "stream",
          "name": "stdout",
          "text": [
            "The area parameters: 15\n"
          ]
        }
      ]
    },
    {
      "cell_type": "code",
      "source": [
        "x = \"data type\"\n",
        "x.upper()\n",
        "print(x.upper())\n",
        "print(x.title())\n",
        "print(x.split())\n",
        "x.islower()"
      ],
      "metadata": {
        "colab": {
          "base_uri": "https://localhost:8080/"
        },
        "id": "QdtKvXu_ZLb-",
        "outputId": "395cde16-ef22-4995-b5f3-61d0f5f2c926"
      },
      "execution_count": null,
      "outputs": [
        {
          "output_type": "stream",
          "name": "stdout",
          "text": [
            "DATA TYPE\n",
            "Data Type\n",
            "['data', 'type']\n"
          ]
        },
        {
          "output_type": "execute_result",
          "data": {
            "text/plain": [
              "True"
            ]
          },
          "metadata": {},
          "execution_count": 7
        }
      ]
    },
    {
      "cell_type": "code",
      "source": [
        "x = range(10)\n",
        "for i in x:\n",
        "  print(i, end = \" \")"
      ],
      "metadata": {
        "colab": {
          "base_uri": "https://localhost:8080/"
        },
        "id": "lAJsGtdWx3iM",
        "outputId": "841b5c03-e129-4c90-e493-b0d75ddec093"
      },
      "execution_count": null,
      "outputs": [
        {
          "output_type": "stream",
          "name": "stdout",
          "text": [
            "0 1 2 3 4 5 6 7 8 9 "
          ]
        }
      ]
    },
    {
      "cell_type": "code",
      "source": [
        "x = range(1,10,3)\n",
        "for i in x:\n",
        "  print(i, end = \" \")"
      ],
      "metadata": {
        "colab": {
          "base_uri": "https://localhost:8080/"
        },
        "id": "c9VQqSH8yY8i",
        "outputId": "d8eef5f4-b72f-4a95-80f3-2d37d38422e5"
      },
      "execution_count": null,
      "outputs": [
        {
          "output_type": "stream",
          "name": "stdout",
          "text": [
            "1 4 7 "
          ]
        }
      ]
    },
    {
      "cell_type": "code",
      "source": [
        "x = range(100,10,-10)\n",
        "for i in x:\n",
        "  print(i, end = \" \")"
      ],
      "metadata": {
        "colab": {
          "base_uri": "https://localhost:8080/"
        },
        "id": "khMM88bQyhkH",
        "outputId": "2dee182f-6b6e-4ceb-cf50-6e1d46d3bea7"
      },
      "execution_count": null,
      "outputs": [
        {
          "output_type": "stream",
          "name": "stdout",
          "text": [
            "100 90 80 70 60 50 40 30 20 "
          ]
        }
      ]
    }
  ],
  "metadata": {
    "colab": {
      "provenance": [],
      "toc_visible": true,
      "authorship_tag": "ABX9TyPnnwTDPH5XvxSoRZKqVvbV",
      "include_colab_link": true
    },
    "kernelspec": {
      "display_name": "Python 3",
      "name": "python3"
    },
    "language_info": {
      "name": "python"
    }
  },
  "nbformat": 4,
  "nbformat_minor": 0
}